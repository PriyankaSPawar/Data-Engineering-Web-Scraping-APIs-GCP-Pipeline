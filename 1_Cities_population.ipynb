{
 "cells": [
  {
   "cell_type": "code",
   "execution_count": 1,
   "id": "02915618-38aa-431b-80c7-a72e7cc04916",
   "metadata": {},
   "outputs": [],
   "source": [
    "import pandas as pd\n",
    "import requests\n",
    "from bs4 import BeautifulSoup\n",
    "import sqlalchemy"
   ]
  },
  {
   "cell_type": "markdown",
   "id": "750305d7-d83d-4792-bddf-74ee27ce3768",
   "metadata": {},
   "source": [
    "## 1 Webscrabe from Wiki information for few cities"
   ]
  },
  {
   "cell_type": "code",
   "execution_count": 2,
   "id": "2881856b-9976-44eb-9f32-909b4ac99936",
   "metadata": {},
   "outputs": [],
   "source": [
    "def cities_dataframe(cities):\n",
    "  cities_data = []\n",
    "\n",
    "  for city in cities:\n",
    "    city_data = {}\n",
    "\n",
    "    # city\n",
    "    city_data[\"City\"] = city\n",
    "\n",
    "    # create the soup\n",
    "    url = f\"https://www.wikipedia.org/wiki/{city}\"\n",
    "    response = requests.get(url)\n",
    "    city_soup = BeautifulSoup(response.content, 'html.parser')\n",
    "\n",
    "    # country\n",
    "    city_data[\"Country\"] = city_soup.find(class_=\"infobox-data\").get_text()\n",
    "\n",
    "    # population\n",
    "    city_population = city_soup.find(string=\"Population\").find_next(\"td\").get_text()\n",
    "    city_population_clean = int(city_population.replace(\",\", \"\"))\n",
    "    city_data[\"Population\"] = city_population_clean\n",
    "    \n",
    "    # data retrieved\n",
    "    city_data[\"Year_Data_Retrieved\"] = city_soup.find(string=\"Population\").find_next().get_text()[2:6]\n",
    "\n",
    "    # latitude and longitude\n",
    "    city_data[\"Latitude\"] = city_soup.find(class_=\"latitude\").get_text()\n",
    "    city_data[\"Longitude\"] = city_soup.find(class_=\"longitude\").get_text()\n",
    "\n",
    "    # append this city's data to the cities list\n",
    "    cities_data.append(city_data)\n",
    "\n",
    "  return pd.DataFrame(cities_data)"
   ]
  },
  {
   "cell_type": "code",
   "execution_count": 3,
   "id": "71227376-5e24-43f7-9fa8-19a0edf15c20",
   "metadata": {
    "tags": []
   },
   "outputs": [],
   "source": [
    "cities_df = cities_dataframe([\"Berlin\", \"Hamburg\", \"Munich\"])"
   ]
  },
  {
   "cell_type": "code",
   "execution_count": 4,
   "id": "3f686f3b-974e-4330-aa53-38e3f4e02a7f",
   "metadata": {},
   "outputs": [
    {
     "data": {
      "text/html": [
       "<div>\n",
       "<style scoped>\n",
       "    .dataframe tbody tr th:only-of-type {\n",
       "        vertical-align: middle;\n",
       "    }\n",
       "\n",
       "    .dataframe tbody tr th {\n",
       "        vertical-align: top;\n",
       "    }\n",
       "\n",
       "    .dataframe thead th {\n",
       "        text-align: right;\n",
       "    }\n",
       "</style>\n",
       "<table border=\"1\" class=\"dataframe\">\n",
       "  <thead>\n",
       "    <tr style=\"text-align: right;\">\n",
       "      <th></th>\n",
       "      <th>City</th>\n",
       "      <th>Country</th>\n",
       "      <th>Population</th>\n",
       "      <th>Year_Data_Retrieved</th>\n",
       "      <th>Latitude</th>\n",
       "      <th>Longitude</th>\n",
       "    </tr>\n",
       "  </thead>\n",
       "  <tbody>\n",
       "    <tr>\n",
       "      <th>0</th>\n",
       "      <td>Berlin</td>\n",
       "      <td>Germany</td>\n",
       "      <td>3755251</td>\n",
       "      <td>2022</td>\n",
       "      <td>52°31′12″N</td>\n",
       "      <td>13°24′18″E</td>\n",
       "    </tr>\n",
       "    <tr>\n",
       "      <th>1</th>\n",
       "      <td>Hamburg</td>\n",
       "      <td>Germany</td>\n",
       "      <td>1945532</td>\n",
       "      <td>2022</td>\n",
       "      <td>53°33′N</td>\n",
       "      <td>10°00′E</td>\n",
       "    </tr>\n",
       "    <tr>\n",
       "      <th>2</th>\n",
       "      <td>Munich</td>\n",
       "      <td>Germany</td>\n",
       "      <td>1512491</td>\n",
       "      <td>2022</td>\n",
       "      <td>48°08′15″N</td>\n",
       "      <td>11°34′30″E</td>\n",
       "    </tr>\n",
       "  </tbody>\n",
       "</table>\n",
       "</div>"
      ],
      "text/plain": [
       "      City  Country  Population Year_Data_Retrieved    Latitude   Longitude\n",
       "0   Berlin  Germany     3755251                2022  52°31′12″N  13°24′18″E\n",
       "1  Hamburg  Germany     1945532                2022     53°33′N     10°00′E\n",
       "2   Munich  Germany     1512491                2022  48°08′15″N  11°34′30″E"
      ]
     },
     "execution_count": 4,
     "metadata": {},
     "output_type": "execute_result"
    }
   ],
   "source": [
    "cities_df"
   ]
  },
  {
   "cell_type": "code",
   "execution_count": 5,
   "id": "bc68b20d-18f5-4e33-b871-1fad8448646e",
   "metadata": {},
   "outputs": [
    {
     "name": "stdout",
     "output_type": "stream",
     "text": [
      "<class 'pandas.core.frame.DataFrame'>\n",
      "RangeIndex: 3 entries, 0 to 2\n",
      "Data columns (total 6 columns):\n",
      " #   Column               Non-Null Count  Dtype \n",
      "---  ------               --------------  ----- \n",
      " 0   City                 3 non-null      object\n",
      " 1   Country              3 non-null      object\n",
      " 2   Population           3 non-null      int64 \n",
      " 3   Year_Data_Retrieved  3 non-null      object\n",
      " 4   Latitude             3 non-null      object\n",
      " 5   Longitude            3 non-null      object\n",
      "dtypes: int64(1), object(5)\n",
      "memory usage: 272.0+ bytes\n"
     ]
    }
   ],
   "source": [
    "cities_df.info()"
   ]
  },
  {
   "cell_type": "code",
   "execution_count": 7,
   "id": "f0a71ebf-83aa-4dae-ae30-8d89a12a218d",
   "metadata": {},
   "outputs": [],
   "source": [
    "# cities_df.to_csv('cities_df.csv')"
   ]
  },
  {
   "cell_type": "markdown",
   "id": "c117af38-066d-4abb-b4ef-2eaef6b67d66",
   "metadata": {
    "tags": []
   },
   "source": [
    "## 2 Create two tbles from the \"cities_df\"\n",
    "\n",
    "Remember we want to have a relational database!!!"
   ]
  },
  {
   "cell_type": "code",
   "execution_count": 6,
   "id": "4a87c643-2a7f-45da-89ec-6a1b8cafe54f",
   "metadata": {},
   "outputs": [
    {
     "data": {
      "text/html": [
       "<div>\n",
       "<style scoped>\n",
       "    .dataframe tbody tr th:only-of-type {\n",
       "        vertical-align: middle;\n",
       "    }\n",
       "\n",
       "    .dataframe tbody tr th {\n",
       "        vertical-align: top;\n",
       "    }\n",
       "\n",
       "    .dataframe thead th {\n",
       "        text-align: right;\n",
       "    }\n",
       "</style>\n",
       "<table border=\"1\" class=\"dataframe\">\n",
       "  <thead>\n",
       "    <tr style=\"text-align: right;\">\n",
       "      <th></th>\n",
       "      <th>City</th>\n",
       "      <th>Country</th>\n",
       "    </tr>\n",
       "  </thead>\n",
       "  <tbody>\n",
       "    <tr>\n",
       "      <th>0</th>\n",
       "      <td>Berlin</td>\n",
       "      <td>Germany</td>\n",
       "    </tr>\n",
       "    <tr>\n",
       "      <th>1</th>\n",
       "      <td>Hamburg</td>\n",
       "      <td>Germany</td>\n",
       "    </tr>\n",
       "    <tr>\n",
       "      <th>2</th>\n",
       "      <td>Munich</td>\n",
       "      <td>Germany</td>\n",
       "    </tr>\n",
       "  </tbody>\n",
       "</table>\n",
       "</div>"
      ],
      "text/plain": [
       "      City  Country\n",
       "0   Berlin  Germany\n",
       "1  Hamburg  Germany\n",
       "2   Munich  Germany"
      ]
     },
     "execution_count": 6,
     "metadata": {},
     "output_type": "execute_result"
    }
   ],
   "source": [
    "# Create the \"cities df\" for the relational data base\n",
    "\n",
    "cities_to_db = cities_df[[\"City\", \"Country\"]]\n",
    "cities_to_db"
   ]
  },
  {
   "cell_type": "code",
   "execution_count": 8,
   "id": "9827c1dd-e3f1-4e51-b3c5-c5467e35aee6",
   "metadata": {
    "collapsed": true,
    "jupyter": {
     "outputs_hidden": true
    },
    "tags": []
   },
   "outputs": [
    {
     "name": "stderr",
     "output_type": "stream",
     "text": [
      "/var/folders/44/00l5g0t953g1bjr6xszqqd400000gn/T/ipykernel_17949/3945587001.py:1: SettingWithCopyWarning: \n",
      "A value is trying to be set on a copy of a slice from a DataFrame\n",
      "\n",
      "See the caveats in the documentation: https://pandas.pydata.org/pandas-docs/stable/user_guide/indexing.html#returning-a-view-versus-a-copy\n",
      "  cities_to_db.rename(columns={\"City\": \"City_name\"}, inplace=True)\n"
     ]
    },
    {
     "data": {
      "text/html": [
       "<div>\n",
       "<style scoped>\n",
       "    .dataframe tbody tr th:only-of-type {\n",
       "        vertical-align: middle;\n",
       "    }\n",
       "\n",
       "    .dataframe tbody tr th {\n",
       "        vertical-align: top;\n",
       "    }\n",
       "\n",
       "    .dataframe thead th {\n",
       "        text-align: right;\n",
       "    }\n",
       "</style>\n",
       "<table border=\"1\" class=\"dataframe\">\n",
       "  <thead>\n",
       "    <tr style=\"text-align: right;\">\n",
       "      <th></th>\n",
       "      <th>City_name</th>\n",
       "      <th>Country</th>\n",
       "    </tr>\n",
       "  </thead>\n",
       "  <tbody>\n",
       "    <tr>\n",
       "      <th>0</th>\n",
       "      <td>Berlin</td>\n",
       "      <td>Germany</td>\n",
       "    </tr>\n",
       "    <tr>\n",
       "      <th>1</th>\n",
       "      <td>Hamburg</td>\n",
       "      <td>Germany</td>\n",
       "    </tr>\n",
       "    <tr>\n",
       "      <th>2</th>\n",
       "      <td>Munich</td>\n",
       "      <td>Germany</td>\n",
       "    </tr>\n",
       "  </tbody>\n",
       "</table>\n",
       "</div>"
      ],
      "text/plain": [
       "  City_name  Country\n",
       "0    Berlin  Germany\n",
       "1   Hamburg  Germany\n",
       "2    Munich  Germany"
      ]
     },
     "execution_count": 8,
     "metadata": {},
     "output_type": "execute_result"
    }
   ],
   "source": [
    "cities_to_db.rename(columns={\"City\": \"City_name\"}, inplace=True)\n",
    "cities_to_db"
   ]
  },
  {
   "cell_type": "code",
   "execution_count": 9,
   "id": "f258f1db-f2c2-4ad8-8938-a1d068c93f03",
   "metadata": {},
   "outputs": [
    {
     "data": {
      "text/html": [
       "<div>\n",
       "<style scoped>\n",
       "    .dataframe tbody tr th:only-of-type {\n",
       "        vertical-align: middle;\n",
       "    }\n",
       "\n",
       "    .dataframe tbody tr th {\n",
       "        vertical-align: top;\n",
       "    }\n",
       "\n",
       "    .dataframe thead th {\n",
       "        text-align: right;\n",
       "    }\n",
       "</style>\n",
       "<table border=\"1\" class=\"dataframe\">\n",
       "  <thead>\n",
       "    <tr style=\"text-align: right;\">\n",
       "      <th></th>\n",
       "      <th>Population</th>\n",
       "      <th>Year_Data_Retrieved</th>\n",
       "    </tr>\n",
       "  </thead>\n",
       "  <tbody>\n",
       "    <tr>\n",
       "      <th>0</th>\n",
       "      <td>3755251</td>\n",
       "      <td>2022</td>\n",
       "    </tr>\n",
       "    <tr>\n",
       "      <th>1</th>\n",
       "      <td>1945532</td>\n",
       "      <td>2022</td>\n",
       "    </tr>\n",
       "    <tr>\n",
       "      <th>2</th>\n",
       "      <td>1512491</td>\n",
       "      <td>2022</td>\n",
       "    </tr>\n",
       "  </tbody>\n",
       "</table>\n",
       "</div>"
      ],
      "text/plain": [
       "   Population Year_Data_Retrieved\n",
       "0     3755251                2022\n",
       "1     1945532                2022\n",
       "2     1512491                2022"
      ]
     },
     "execution_count": 9,
     "metadata": {},
     "output_type": "execute_result"
    }
   ],
   "source": [
    "# Create the \"population df\" for the relational data base\n",
    "\n",
    "population_to_db = cities_df[[\"Population\", \"Year_Data_Retrieved\"]]\n",
    "population_to_db"
   ]
  },
  {
   "cell_type": "markdown",
   "id": "3629b64c-5296-4c4d-86d6-658f72d63bf5",
   "metadata": {
    "tags": []
   },
   "source": [
    "## 3 Creating the database and the backbone of cities & population tables\n",
    "\n",
    "Before we can send the information in SQL, we need to make tables that have the same columns and data types to recieve the data. While we are creating a table for cities, we can also create the population table too.\n",
    "\n",
    "Open MySQL Workbench, open a local connection, and open a new file. Then copy and paste the code from below.\n",
    "\n",
    "```sql\n",
    "-- Drop the database if it already exists\n",
    "-- DROP DATABASE IF EXISTS gans_local;\n",
    "\n",
    "\n",
    "-- Create the database\n",
    "CREATE DATABASE gans_local;\n",
    "\n",
    "-- Use the database\n",
    "USE gans_local;\n",
    "\n",
    "\n",
    "CREATE TABLE cities (\n",
    "    City_id INT AUTO_INCREMENT, -- Automatically generated ID for each city\n",
    "    City_name VARCHAR(255) NOT NULL, -- Name of the city\n",
    "    Country VARCHAR(255) NOT NULL, -- Name of the country\n",
    "    PRIMARY KEY (City_id) -- Primary key to uniquely identify each city\n",
    ");\n",
    "\n",
    "\n",
    "CREATE TABLE population (\n",
    "    Population_id INT AUTO_INCREMENT,\n",
    "    Population INT NOT NULL,\n",
    "    Year_Data_Retrieved VARCHAR(255),\n",
    "    City_id INT,\n",
    "    PRIMARY KEY (Population_id),\n",
    "    FOREIGN KEY (City_id) REFERENCES cities(City_id)\n",
    ");\n",
    "```\n"
   ]
  },
  {
   "cell_type": "markdown",
   "id": "acdbab84-0495-441c-8900-2561304262a5",
   "metadata": {},
   "source": [
    "## 4 Push the \"cities_to_db\" to the empty \"cities\" table in the database"
   ]
  },
  {
   "cell_type": "code",
   "execution_count": 10,
   "id": "d0d42d8e-8fb8-4319-90d7-5612bc675c23",
   "metadata": {
    "jupyter": {
     "source_hidden": true
    },
    "tags": []
   },
   "outputs": [],
   "source": [
    "# from Keys import MySQL_pass"
   ]
  },
  {
   "cell_type": "code",
   "execution_count": 14,
   "id": "ef90ad87-5ed4-43fa-b393-06a05c634fe5",
   "metadata": {},
   "outputs": [],
   "source": [
    "# Establishment of connection with the SQL database\n",
    "\n",
    "schema = \"gans_local\" # The name of your database\n",
    "host = \"127.0.0.1\"\n",
    "user = \"root\"\n",
    "password = # USE Your MySQL password\n",
    "port = 3306\n",
    "\n",
    "connection_string = f'mysql+pymysql://{user}:{password}@{host}:{port}/{schema}'"
   ]
  },
  {
   "cell_type": "code",
   "execution_count": 12,
   "id": "b6858f52-a927-430b-af09-e07e70c1f6c5",
   "metadata": {},
   "outputs": [
    {
     "data": {
      "text/plain": [
       "3"
      ]
     },
     "execution_count": 12,
     "metadata": {},
     "output_type": "execute_result"
    }
   ],
   "source": [
    "# Push the \"cities_to_db\" to the empty \"cities\" table in the MySQL data base\n",
    "\n",
    "cities_to_db.to_sql('cities',\n",
    "                  if_exists='append',\n",
    "                  con=connection_string,\n",
    "                  index=False)"
   ]
  },
  {
   "cell_type": "markdown",
   "id": "b91f0d31-2a5b-4d3b-b653-94eaefc9f64f",
   "metadata": {},
   "source": [
    "## 5 Read the \"cities\" table from the database into the notebook\n",
    "\n",
    "This step is needed to fetch the \"city_id\" column and integrate it into the \"population_to_db\" dataframe. The \"city_id\" column in \"population_to_db\" dataframe will serve as a foreign key in order to establish a relation between both \"cities\" & \"population\" tables"
   ]
  },
  {
   "cell_type": "code",
   "execution_count": 15,
   "id": "b4bd52f9-e7f7-4667-a960-807d467ebe3e",
   "metadata": {},
   "outputs": [
    {
     "data": {
      "text/html": [
       "<div>\n",
       "<style scoped>\n",
       "    .dataframe tbody tr th:only-of-type {\n",
       "        vertical-align: middle;\n",
       "    }\n",
       "\n",
       "    .dataframe tbody tr th {\n",
       "        vertical-align: top;\n",
       "    }\n",
       "\n",
       "    .dataframe thead th {\n",
       "        text-align: right;\n",
       "    }\n",
       "</style>\n",
       "<table border=\"1\" class=\"dataframe\">\n",
       "  <thead>\n",
       "    <tr style=\"text-align: right;\">\n",
       "      <th></th>\n",
       "      <th>City_id</th>\n",
       "      <th>City_name</th>\n",
       "      <th>Country</th>\n",
       "    </tr>\n",
       "  </thead>\n",
       "  <tbody>\n",
       "    <tr>\n",
       "      <th>0</th>\n",
       "      <td>1</td>\n",
       "      <td>Berlin</td>\n",
       "      <td>Germany</td>\n",
       "    </tr>\n",
       "    <tr>\n",
       "      <th>1</th>\n",
       "      <td>2</td>\n",
       "      <td>Hamburg</td>\n",
       "      <td>Germany</td>\n",
       "    </tr>\n",
       "    <tr>\n",
       "      <th>2</th>\n",
       "      <td>3</td>\n",
       "      <td>Munich</td>\n",
       "      <td>Germany</td>\n",
       "    </tr>\n",
       "  </tbody>\n",
       "</table>\n",
       "</div>"
      ],
      "text/plain": [
       "   City_id City_name  Country\n",
       "0        1    Berlin  Germany\n",
       "1        2   Hamburg  Germany\n",
       "2        3    Munich  Germany"
      ]
     },
     "execution_count": 15,
     "metadata": {},
     "output_type": "execute_result"
    }
   ],
   "source": [
    "cities_from_sql = pd.read_sql(\"cities\", con=connection_string)\n",
    "cities_from_sql"
   ]
  },
  {
   "cell_type": "code",
   "execution_count": 22,
   "id": "26e12c47-d287-45f7-9c14-1ea25537cc5d",
   "metadata": {
    "collapsed": true,
    "jupyter": {
     "outputs_hidden": true
    },
    "tags": []
   },
   "outputs": [
    {
     "name": "stderr",
     "output_type": "stream",
     "text": [
      "/var/folders/44/00l5g0t953g1bjr6xszqqd400000gn/T/ipykernel_17949/2890127092.py:1: SettingWithCopyWarning: \n",
      "A value is trying to be set on a copy of a slice from a DataFrame.\n",
      "Try using .loc[row_indexer,col_indexer] = value instead\n",
      "\n",
      "See the caveats in the documentation: https://pandas.pydata.org/pandas-docs/stable/user_guide/indexing.html#returning-a-view-versus-a-copy\n",
      "  population_to_db[\"City_id\"] = cities_from_sql[\"City_id\"]\n"
     ]
    },
    {
     "data": {
      "text/html": [
       "<div>\n",
       "<style scoped>\n",
       "    .dataframe tbody tr th:only-of-type {\n",
       "        vertical-align: middle;\n",
       "    }\n",
       "\n",
       "    .dataframe tbody tr th {\n",
       "        vertical-align: top;\n",
       "    }\n",
       "\n",
       "    .dataframe thead th {\n",
       "        text-align: right;\n",
       "    }\n",
       "</style>\n",
       "<table border=\"1\" class=\"dataframe\">\n",
       "  <thead>\n",
       "    <tr style=\"text-align: right;\">\n",
       "      <th></th>\n",
       "      <th>Population</th>\n",
       "      <th>Year_Data_Retrieved</th>\n",
       "      <th>City_id</th>\n",
       "    </tr>\n",
       "  </thead>\n",
       "  <tbody>\n",
       "    <tr>\n",
       "      <th>0</th>\n",
       "      <td>3755251</td>\n",
       "      <td>2022</td>\n",
       "      <td>1</td>\n",
       "    </tr>\n",
       "    <tr>\n",
       "      <th>1</th>\n",
       "      <td>1945532</td>\n",
       "      <td>2022</td>\n",
       "      <td>2</td>\n",
       "    </tr>\n",
       "    <tr>\n",
       "      <th>2</th>\n",
       "      <td>1512491</td>\n",
       "      <td>2022</td>\n",
       "      <td>3</td>\n",
       "    </tr>\n",
       "  </tbody>\n",
       "</table>\n",
       "</div>"
      ],
      "text/plain": [
       "   Population Year_Data_Retrieved  City_id\n",
       "0     3755251                2022        1\n",
       "1     1945532                2022        2\n",
       "2     1512491                2022        3"
      ]
     },
     "execution_count": 22,
     "metadata": {},
     "output_type": "execute_result"
    }
   ],
   "source": [
    "# Getting the \"City_id\" to the population df \n",
    "\n",
    "population_to_db[\"City_id\"] = cities_from_sql[\"City_id\"]\n",
    "population_to_db"
   ]
  },
  {
   "cell_type": "code",
   "execution_count": 24,
   "id": "98b2798a-5a65-4eca-b41f-0325114cf56e",
   "metadata": {},
   "outputs": [
    {
     "name": "stdout",
     "output_type": "stream",
     "text": [
      "<class 'pandas.core.frame.DataFrame'>\n",
      "RangeIndex: 3 entries, 0 to 2\n",
      "Data columns (total 3 columns):\n",
      " #   Column               Non-Null Count  Dtype \n",
      "---  ------               --------------  ----- \n",
      " 0   Population           3 non-null      int64 \n",
      " 1   Year_Data_Retrieved  3 non-null      object\n",
      " 2   City_id              3 non-null      int64 \n",
      "dtypes: int64(2), object(1)\n",
      "memory usage: 200.0+ bytes\n"
     ]
    }
   ],
   "source": [
    "population_to_db.info()"
   ]
  },
  {
   "cell_type": "markdown",
   "id": "7883da07-972a-4191-953c-e68662ede4de",
   "metadata": {},
   "source": [
    "## 6 Push the \"population_to_db\" to the empty \"population\" table in the database"
   ]
  },
  {
   "cell_type": "code",
   "execution_count": 25,
   "id": "7b0ddee4-71b5-46c3-a98b-396bbf036414",
   "metadata": {},
   "outputs": [
    {
     "data": {
      "text/plain": [
       "3"
      ]
     },
     "execution_count": 25,
     "metadata": {},
     "output_type": "execute_result"
    }
   ],
   "source": [
    "# Push the \"population_to_db\" to the empty \"population\" table in the MySQL data base\n",
    "\n",
    "population_to_db.to_sql('population',\n",
    "                  if_exists='append',\n",
    "                  con=connection_string,\n",
    "                  index=False)"
   ]
  },
  {
   "cell_type": "code",
   "execution_count": null,
   "id": "05d4f670-eb35-4b1f-8f59-32faa5fde43d",
   "metadata": {},
   "outputs": [],
   "source": []
  }
 ],
 "metadata": {
  "kernelspec": {
   "display_name": "Python 3 (ipykernel)",
   "language": "python",
   "name": "python3"
  },
  "language_info": {
   "codemirror_mode": {
    "name": "ipython",
    "version": 3
   },
   "file_extension": ".py",
   "mimetype": "text/x-python",
   "name": "python",
   "nbconvert_exporter": "python",
   "pygments_lexer": "ipython3",
   "version": "3.9.12"
  }
 },
 "nbformat": 4,
 "nbformat_minor": 5
}
